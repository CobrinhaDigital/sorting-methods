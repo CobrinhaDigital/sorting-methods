{
  "cells": [
    {
      "cell_type": "code",
      "execution_count": 21,
      "metadata": {
        "id": "-jknuqxPd8cS"
      },
      "outputs": [],
      "source": [
        "import numpy as np\n",
        "import random\n",
        "import matplotlib as mpl\n",
        "import matplotlib.pyplot as plt\n",
        "import time\n",
        "\n",
        "tamanhos = [5000, 10000, 15000, 20000, 25000, 30000]\n",
        "tempo = []\n",
        "\n",
        "def complexidade_temporal(metodo): \n",
        "    def decorator_temporal(args, **kwargs): # arr\n",
        "        tempoInicial = time.perf_counter()\n",
        "        chamadaDeMetodo = metodo(args, **kwargs)\n",
        "        tempoFinal = time.perf_counter()\n",
        "\n",
        "        return chamadaDeMetodo, tempoFinal - tempoInicial\n",
        "    return decorator_temporal"
      ]
    },
    {
      "cell_type": "markdown",
      "metadata": {
        "id": "2ogKYXabSQi5"
      },
      "source": [
        "##### **MÉTODOS DE ORDENAÇÃO**=> algoritmos que visam organizar dados seguindo um critério específico na menor quantidade de tempo possível\n",
        "**PARAMÊTROS:**\n",
        "*   **Número de trocar e inversões** => quantas vezes os elementos trocam de posição?\n",
        "*   **Número de comparações** => quantas vezes se verifica se um elemento é menor ou maior que outro?\n",
        "*   **Recursão** => usa ou não?\n",
        "*   **Estabilidade** => caso um elemento possua o mesmo valor que outro, o algoritmo devolve eles na ordem que eles são encontrados na sequência inicial?\n",
        "*   **Espaço extra** => além da entrada, quanto espaço esse algoritmo requer?\n",
        "\n",
        "\n",
        "\n",
        "\n",
        "\n",
        "\n",
        "\n"
      ]
    },
    {
      "cell_type": "markdown",
      "metadata": {
        "id": "3fPARmMGV1lf"
      },
      "source": [
        "##### **BUBBLE SORT** => *bolhas maiores sobem mais rápido*\n",
        "*   Ordena elementos em ordem **crescente**\n",
        "*   Compara elementos adjacentes (lado a lado)\n",
        "*   Se o **primeiro** elemento for **maior que** o **segundo**, o primeiro **assume a posição** do segundo e vice-versa\n",
        "*   O **maior elemento** é sempre usado para **comparar**"
      ]
    },
    {
      "cell_type": "code",
      "execution_count": 32,
      "metadata": {
        "colab": {
          "base_uri": "https://localhost:8080/",
          "height": 507
        },
        "id": "w18xrGZQWxzN",
        "outputId": "37898bb5-0e20-4095-b951-ad217a7b7858"
      },
      "outputs": [
        {
          "ename": "KeyboardInterrupt",
          "evalue": "",
          "output_type": "error",
          "traceback": [
            "\u001b[0;31m---------------------------------------------------------------------------\u001b[0m",
            "\u001b[0;31mKeyboardInterrupt\u001b[0m                         Traceback (most recent call last)",
            "Cell \u001b[0;32mIn[32], line 5\u001b[0m\n\u001b[1;32m      3\u001b[0m \u001b[38;5;28;01mfor\u001b[39;00m i \u001b[38;5;129;01min\u001b[39;00m \u001b[38;5;28mrange\u001b[39m(\u001b[38;5;28mlen\u001b[39m(lista)):\n\u001b[1;32m      4\u001b[0m     \u001b[38;5;28;01mfor\u001b[39;00m j \u001b[38;5;129;01min\u001b[39;00m \u001b[38;5;28mrange\u001b[39m(\u001b[38;5;241m0\u001b[39m, \u001b[38;5;28mlen\u001b[39m(lista)\u001b[38;5;241m-\u001b[39mi\u001b[38;5;241m-\u001b[39m\u001b[38;5;241m1\u001b[39m):\n\u001b[0;32m----> 5\u001b[0m         \u001b[38;5;28;01mif\u001b[39;00m lista[j] \u001b[38;5;241m>\u001b[39m lista[j\u001b[38;5;241m+\u001b[39m\u001b[38;5;241m1\u001b[39m]:\n\u001b[1;32m      6\u001b[0m             aux \u001b[38;5;241m=\u001b[39m lista[j]\n\u001b[1;32m      7\u001b[0m             lista[j] \u001b[38;5;241m=\u001b[39m lista[j \u001b[38;5;241m+\u001b[39m \u001b[38;5;241m1\u001b[39m]\n",
            "\u001b[0;31mKeyboardInterrupt\u001b[0m: "
          ]
        }
      ],
      "source": [
        "for tamanho in tamanhos: \n",
        "    lista = np.random.randint(0, 1000, size=tamanho)\n",
        "    for i in range(len(lista)):\n",
        "        for j in range(0, len(lista)-i-1):\n",
        "            if lista[j] > lista[j+1]:\n",
        "                aux = lista[j]\n",
        "                lista[j] = lista[j + 1]\n",
        "                lista[j + 1] = aux"
      ]
    },
    {
      "cell_type": "markdown",
      "metadata": {},
      "source": [
        "**COMPLEXIDADE TEMPORAL - Bubble Sort** \n",
        "* **Melhor caso:** *O(n)*\n",
        "* **Caso médio:** *O(n^2)*\n",
        "* **Pior caso:** *O(n^2)*"
      ]
    },
    {
      "cell_type": "markdown",
      "metadata": {
        "id": "oqE30UonnS0r"
      },
      "source": [
        "##### **INSERTION SORT** => *jogo de cartas*\n",
        "*  Compara os **2 primeiros** elementos\n",
        "*  Se o **próximo** for **maior**, ele **troca** de **posição** com o **anterior**\n",
        "*  Se **não** houverem mais **elementos anteriores** para **comparar**, ele **prossegue**\n",
        "*  Caso haja uma **troca**, o **menor elemento** é **comparado** com os **anteriores**\n",
        "*  Mesmo que hajam trocas, as **comparações** com os **elementos anteriores** só **termina** quando **não houverem mais elementos antes**"
      ]
    },
    {
      "cell_type": "code",
      "execution_count": 33,
      "metadata": {
        "colab": {
          "base_uri": "https://localhost:8080/",
          "height": 507
        },
        "id": "x-FPMVnZoZ39",
        "outputId": "2460b4ed-57e9-475a-e19a-2cd66c2e869f"
      },
      "outputs": [
        {
          "ename": "KeyboardInterrupt",
          "evalue": "",
          "output_type": "error",
          "traceback": [
            "\u001b[0;31m---------------------------------------------------------------------------\u001b[0m",
            "\u001b[0;31mKeyboardInterrupt\u001b[0m                         Traceback (most recent call last)",
            "Cell \u001b[0;32mIn[33], line 3\u001b[0m\n\u001b[1;32m      1\u001b[0m \u001b[38;5;28;01mfor\u001b[39;00m tamanho \u001b[38;5;129;01min\u001b[39;00m tamanhos: \n\u001b[1;32m      2\u001b[0m       \u001b[38;5;28;01mfor\u001b[39;00m i \u001b[38;5;129;01min\u001b[39;00m \u001b[38;5;28mrange\u001b[39m(\u001b[38;5;28mlen\u001b[39m(lista)):\n\u001b[0;32m----> 3\u001b[0m             lista \u001b[38;5;241m=\u001b[39m \u001b[43mnp\u001b[49m\u001b[38;5;241;43m.\u001b[39;49m\u001b[43mrandom\u001b[49m\u001b[38;5;241;43m.\u001b[39;49m\u001b[43mrandint\u001b[49m\u001b[43m(\u001b[49m\u001b[38;5;241;43m0\u001b[39;49m\u001b[43m,\u001b[49m\u001b[43m \u001b[49m\u001b[38;5;241;43m100\u001b[39;49m\u001b[43m,\u001b[49m\u001b[43m \u001b[49m\u001b[43msize\u001b[49m\u001b[38;5;241;43m=\u001b[39;49m\u001b[43mtamanho\u001b[49m\u001b[43m)\u001b[49m\n\u001b[1;32m      4\u001b[0m             aux \u001b[38;5;241m=\u001b[39m lista[i]\n\u001b[1;32m      5\u001b[0m             j \u001b[38;5;241m=\u001b[39m i \u001b[38;5;241m-\u001b[39m \u001b[38;5;241m1\u001b[39m\n",
            "\u001b[0;31mKeyboardInterrupt\u001b[0m: "
          ]
        }
      ],
      "source": [
        "for tamanho in tamanhos: \n",
        "      for i in range(len(lista)):\n",
        "            lista = np.random.randint(0, 100, size=tamanho)\n",
        "            aux = lista[i]\n",
        "            j = i - 1\n",
        "            while j >= 0 and lista[j] > aux:\n",
        "                  lista[j + 1] = lista[j]\n",
        "                  j = j - 1\n",
        "            lista[j + 1] = aux\n"
      ]
    },
    {
      "cell_type": "markdown",
      "metadata": {},
      "source": [
        "**COMPLEXIDADE TEMPORAL - Insertion Sort**\n",
        "* **Melhor caso:** *O(n)*\n",
        "* **Caso médio:** *O(n^2)*\n",
        "* **Pior caso:** *O(n^2)*"
      ]
    },
    {
      "cell_type": "markdown",
      "metadata": {
        "id": "X9ofZfkrs0y0"
      },
      "source": [
        "##### **SELECTION SORT** => *troca nos extremos*\n",
        "*   O primeiro item é chamado de ***mínimo***\n",
        "*   O item ***mínimo*** é comparado com o segundo item => se o segundo item for menor, ele deverá ser o novo ***mínimo***\n",
        "*   A cada iteração, o ***mínimo*** é posto na posição final da lista de números não ordenados\n",
        "*   Repita esse processo até o item final, atribuindo um novo ***mínimo*** sempre que necessário\n"
      ]
    },
    {
      "cell_type": "code",
      "execution_count": 31,
      "metadata": {
        "colab": {
          "base_uri": "https://localhost:8080/",
          "height": 507
        },
        "id": "YkXI8mJw9pQj",
        "outputId": "b62e183e-22ee-4e76-b4a7-1efe88847de6"
      },
      "outputs": [],
      "source": [
        "for i in range(len(lista) - 1):\n",
        "      lista = np.random.randint(0, 100, size=tamanho)\n",
        "      minimo = i\n",
        "      for j in range (i + 1, len(lista)):\n",
        "          if lista[j] < lista[minimo]:\n",
        "            minimo = j\n",
        "      aux = lista[i]\n",
        "      lista[i] = lista[minimo]\n",
        "      lista[minimo] = aux"
      ]
    },
    {
      "cell_type": "markdown",
      "metadata": {},
      "source": [
        "**COMPLEXIDADE TEMPORAL - Selection Sort**\n",
        "* **Melhor caso:** *O(n^2)*\n",
        "* **Caso médio:** *O(n^2)*\n",
        "* **Pior caso:** *O(n^2)*"
      ]
    },
    {
      "cell_type": "markdown",
      "metadata": {
        "id": "asxv3WhIPb8V"
      },
      "source": [
        "##### **QUICK SORT** => *dividir a* ***sequência de números*** *e conquistar a* ***solução***\n",
        "\n",
        "*   Um elemento da lista é escolhido como **pivô**\n",
        "*   Os elementos **menores** que o **pivô** ficam à **esquerda** e os elementos **maiores** que o **pivô** ficam à **direita**\n",
        "*   É comum se referir à essa divisão feita pela escolha do pivô como **partições** -> essas partições se formam a partir de comparações que se dão de maneira recursiva\n",
        "*   O algoritmo faz constantemente **comparações** entre o **elemento esquerdo com o elemento direito**\n",
        "\n",
        "**OBSERVAÇÕES**\n",
        "\n",
        "1.  O quick sort se baseia na técnica de **divisão e conquista** => ele é uma das formas de construir **algoritmos eficientes**\n",
        "2.  A escolha do pivô pode afetar a **complexidade temporal** do algoritmo, até mesmo em listas pequenas.\n",
        "3.  A maneira mais segura de escolher um pivô é selecionar o elemento do meio do array\n",
        "4. O quick sort usa recursão"
      ]
    },
    {
      "cell_type": "code",
      "execution_count": 42,
      "metadata": {
        "colab": {
          "base_uri": "https://localhost:8080/",
          "height": 507
        },
        "id": "xGjrxby4fnlJ",
        "outputId": "0fafe8a1-5d55-43fc-d7a1-2e3beb204b96"
      },
      "outputs": [
        {
          "ename": "TypeError",
          "evalue": "quick_sort() missing 2 required positional arguments: 'particaoMeio' and 'particaoEsquerda'",
          "output_type": "error",
          "traceback": [
            "\u001b[0;31m---------------------------------------------------------------------------\u001b[0m",
            "\u001b[0;31mTypeError\u001b[0m                                 Traceback (most recent call last)",
            "Cell \u001b[0;32mIn[42], line 26\u001b[0m\n\u001b[1;32m     22\u001b[0m          particaoMeio\u001b[38;5;241m.\u001b[39mappend(i)\n\u001b[1;32m     24\u001b[0m    \u001b[38;5;28;01mreturn\u001b[39;00m quick_sort(particaoEsquerda) \u001b[38;5;241m+\u001b[39m particaoMeio \u001b[38;5;241m+\u001b[39m quick_sort(particaoDireita)\n\u001b[0;32m---> 26\u001b[0m \u001b[43mquick_sort\u001b[49m\u001b[43m(\u001b[49m\u001b[43mparticaoDireita\u001b[49m\u001b[43m,\u001b[49m\u001b[43m \u001b[49m\u001b[43mparticaoEsquerda\u001b[49m\u001b[43m,\u001b[49m\u001b[43m \u001b[49m\u001b[43mparticaoMeio\u001b[49m\u001b[43m)\u001b[49m\n",
            "Cell \u001b[0;32mIn[42], line 24\u001b[0m, in \u001b[0;36mquick_sort\u001b[0;34m(particaoDireita, particaoMeio, particaoEsquerda)\u001b[0m\n\u001b[1;32m     21\u001b[0m    \u001b[38;5;28;01mif\u001b[39;00m i \u001b[38;5;241m==\u001b[39m pivo:\n\u001b[1;32m     22\u001b[0m       particaoMeio\u001b[38;5;241m.\u001b[39mappend(i)\n\u001b[0;32m---> 24\u001b[0m \u001b[38;5;28;01mreturn\u001b[39;00m \u001b[43mquick_sort\u001b[49m\u001b[43m(\u001b[49m\u001b[43mparticaoEsquerda\u001b[49m\u001b[43m)\u001b[49m \u001b[38;5;241m+\u001b[39m particaoMeio \u001b[38;5;241m+\u001b[39m quick_sort(particaoDireita)\n",
            "\u001b[0;31mTypeError\u001b[0m: quick_sort() missing 2 required positional arguments: 'particaoMeio' and 'particaoEsquerda'"
          ]
        }
      ],
      "source": [
        "#CRÉDITOS AO PROFESSOR RONALDO QUE ME AJUDOU A IMPLEMENTAR ESSE MÉTODO <3\n",
        "#Nao funciona mais :( \n",
        "particaoDireita = []\n",
        "particaoEsquerda = []\n",
        "particaoMeio = []\n",
        "\n",
        "for tamanho in tamanhos:\n",
        "   lista = np.random.randint(0, 100, size=tamanho)\n",
        "\n",
        "   if len(lista) <= 1:\n",
        "      print(lista)\n",
        "\n",
        "   pivo = lista[int(len(lista)/2)]\n",
        "\n",
        "def quick_sort(particaoDireita, particaoMeio, particaoEsquerda):\n",
        "   for i in lista:\n",
        "      if i < pivo:\n",
        "         particaoEsquerda.append(i)\n",
        "      if i > pivo:\n",
        "         particaoDireita.append(i)\n",
        "      if i == pivo:\n",
        "         particaoMeio.append(i)\n",
        "\n",
        "   return quick_sort(particaoEsquerda) + particaoMeio + quick_sort(particaoDireita)\n",
        "\n",
        "quick_sort(particaoDireita, particaoEsquerda, particaoMeio)"
      ]
    },
    {
      "cell_type": "markdown",
      "metadata": {},
      "source": [
        "**COMPLEXIDADE TEMPORAL - Quick Sort**\n",
        "\n",
        "* **Melhor caso:** O(n $\\cdot$ log n)\n",
        "* **Caso médio:** O(n $\\cdot$ log n)\n",
        "* **Pior caso:** O(n^2)"
      ]
    },
    {
      "cell_type": "markdown",
      "metadata": {
        "id": "U-i0qfxs8u_1"
      },
      "source": [
        "##### **SHELL SORT** => *insertion sort, só que melhor*\n",
        "\n",
        "* Um número N que corresponde ao número de elementos na lista é sucessivamente dividido por 2 \n",
        "* A cada loop, N é novamente dividido por 2 conforme a necessidade, se tornando N/2, N/4, N/8 e assim por diante.\n",
        "* Importante ressaltar que, quando isso ocorre, a distância entre os elementos fica menor.\n",
        "* Quando ⌊N/2⌋ = 0, a ordenação chega ao fim, pois não existe mais espaço entre os elementos"
      ]
    },
    {
      "cell_type": "code",
      "execution_count": 44,
      "metadata": {
        "colab": {
          "base_uri": "https://localhost:8080/"
        },
        "id": "Wl7prEOvBTXp",
        "outputId": "4b742d54-8ff9-4c12-bd9f-9db0ce010f3e"
      },
      "outputs": [
        {
          "name": "stdout",
          "output_type": "stream",
          "text": [
            "[ 0  0  0 ... 99 99 99]\n",
            "[ 0  0  0 ... 99 99 99]\n",
            "[ 0  0  0 ... 99 99 99]\n",
            "[ 0  0  0 ... 99 99 99]\n",
            "[ 0  0  0 ... 99 99 99]\n",
            "[ 0  0  0 ... 99 99 99]\n"
          ]
        }
      ],
      "source": [
        "for tamanho in tamanhos:\n",
        "    lista = np.random.randint(0, 100, size=tamanho)\n",
        "    espaco = len(lista)//2\n",
        "    \n",
        "    while espaco > 0: \n",
        "        for i in range(espaco, len(lista)): \n",
        "            aux = lista[i] \n",
        "            j = i \n",
        "            while j >= espaco and lista[j - espaco] > aux: \n",
        "                lista[j] = lista[j - espaco] \n",
        "                j -= espaco \n",
        "            lista[j] = aux \n",
        "        espaco = espaco // 2\n",
        "    print(lista)\n",
        "\n"
      ]
    },
    {
      "cell_type": "markdown",
      "metadata": {},
      "source": [
        "**OBSERVAÇÕES**\n",
        "* A sequência original do Shell Sort é dada por $\\lfloor N/2^k \\rfloor$ \n",
        "* Existem outras sequências que podem ser aplicadas no Shell Sort: \n",
        "    1. Sequência de Knuth = ***\\(3^k - 1\\)***\n",
        "    2. Sequência de Sedgewick = ***\\(4^i + 3 $\\cdot$ 2^{i-1} + 1 , $para$ i $\\geq$ 1 \\)***\n",
        "    3. Sequência de Hibbard = ***\\(2^k - 1 , $para$ k $\\geq$ 1\\)***\n",
        "    4. Sequência de Papernov e Stasevich = ***\\(2^{k + 1} - 3 $para$ k $\\cdot$ 1\\)***\n",
        "    5. Sequência de Pratt = ***\\(2, 3, 5, 7, 11...\\)** :. números primos em ordem crescente*  \n",
        "* Dependendo do problema, outras sequências podem se mostrar mais eficientes "
      ]
    },
    {
      "cell_type": "markdown",
      "metadata": {},
      "source": [
        "**COMPLEXIDADE TEMPORAL**"
      ]
    },
    {
      "cell_type": "markdown",
      "metadata": {
        "id": "ThI27t3UPfHd"
      },
      "source": [
        "##### **MERGE SORT** => *dividir, conquistar e* ***combinar***\n",
        "\n",
        "* Outro método de ordenação que usa **divisão e conquista**\n",
        "* A lista de elementos é dividida ao **meio** em **sublistas** e assim por diante **até cada elemento ficar isolado**\n",
        "* Terminadas as divisões, os elementos são **comparados** de **dois em dois** e **ordenados** numa **sublista**\n",
        "* Os **elementos das sublistas** formadas por esse processo vão sendo **comparados** e **ordenados** até **formar a lista final**, com todos os **elementos originais ordenados**"
      ]
    },
    {
      "cell_type": "code",
      "execution_count": 56,
      "metadata": {
        "colab": {
          "base_uri": "https://localhost:8080/",
          "height": 507
        },
        "id": "HfsSBsL8BTMQ",
        "outputId": "1587b849-4a26-4679-dac0-f61194a50b8b"
      },
      "outputs": [
        {
          "ename": "TypeError",
          "evalue": "merge_sort() missing 2 required positional arguments: 'particaoEsquerda' and 'particaoMeio'",
          "output_type": "error",
          "traceback": [
            "\u001b[0;31m---------------------------------------------------------------------------\u001b[0m",
            "\u001b[0;31mTypeError\u001b[0m                                 Traceback (most recent call last)",
            "Cell \u001b[0;32mIn[56], line 40\u001b[0m\n\u001b[1;32m     37\u001b[0m       \u001b[38;5;28;01mreturn\u001b[39;00m lista \n\u001b[1;32m     39\u001b[0m \u001b[38;5;28;01mfor\u001b[39;00m tamanho \u001b[38;5;129;01min\u001b[39;00m tamanhos:\n\u001b[0;32m---> 40\u001b[0m       \u001b[43mmerge_sort\u001b[49m\u001b[43m(\u001b[49m\u001b[43mparticaoDireita\u001b[49m\u001b[43m)\u001b[49m\n\u001b[1;32m     41\u001b[0m       merge_sort(particaoEsquerda)\n\u001b[1;32m     42\u001b[0m       i \u001b[38;5;241m=\u001b[39m j \u001b[38;5;241m=\u001b[39m k \u001b[38;5;241m=\u001b[39m \u001b[38;5;241m0\u001b[39m\n",
            "\u001b[0;31mTypeError\u001b[0m: merge_sort() missing 2 required positional arguments: 'particaoEsquerda' and 'particaoMeio'"
          ]
        }
      ],
      "source": [
        "lista = np.random.randint(0, 100, size=tamanho)\n",
        "if len(lista) <= 1:\n",
        "      print(lista)\n",
        "\n",
        "#operador // realiza uma divisao inteira\n",
        "particaoMeio = len(lista)//2\n",
        "#elementos antes de particaoMeio - 1\n",
        "particaoEsquerda = lista[:particaoMeio]\n",
        "#elementos depois de particaoMeio - 1\n",
        "particaoDireita = lista[particaoMeio:]\n",
        "\n",
        "def merge_sort():\n",
        "      #combina particaoDireita e particaoEsquerda juntando-as na lista original\n",
        "      while i < len(particaoEsquerda) and j < len(particaoDireita):\n",
        "            #condição que compara e ordena os elementos menores\n",
        "            if particaoEsquerda[i] <= particaoDireita[j]:\n",
        "                  lista[k] = particaoEsquerda[i]\n",
        "                  i += 1\n",
        "            #condição que compara e ordena os elementos maiores\n",
        "            else:\n",
        "                  lista[k] = particaoDireita[j]\n",
        "                  j += 1\n",
        "            k += 1\n",
        "\n",
        "      #verifica se há elementos restantes em particaoEsquerda\n",
        "      while i < len(particaoEsquerda):\n",
        "            lista[k] = particaoEsquerda[i]\n",
        "            i += 1\n",
        "            k += 1\n",
        "\n",
        "      #verifica se há elementos restantes em particaoDireita\n",
        "      while j < len(particaoDireita):\n",
        "            lista[k] = particaoDireita[j]\n",
        "            j += 1\n",
        "            k += 1\n",
        "\n",
        "      return lista \n",
        "\n",
        "for tamanho in tamanhos:\n",
        "      merge_sort(particaoDireita)\n",
        "      merge_sort(particaoEsquerda)\n",
        "      i = j = k = 0\n",
        "\n",
        "merge_sort()"
      ]
    },
    {
      "cell_type": "markdown",
      "metadata": {},
      "source": [
        "**COMPLEXIDADE TEMPORAL**\n",
        "\n",
        "* O(n $\\cdot$ log n)\n",
        "* Mesma complexidade temporal independente do caso"
      ]
    },
    {
      "cell_type": "markdown",
      "metadata": {
        "id": "QLmvLIpkk8_2"
      },
      "source": [
        "##### **COUNTING SORT** => *não usa comparações*\n",
        "\n",
        "* Contaremos o **número de ocorrências** de um certo elemento na lista desordenada numa outra lista com **número de elementos igual ao valor máximo** da lista original, mas todos os elementos serão **zero**, pois ainda não conhecemos as ocorrências\n",
        "* Em seguida, percorremos a lista original novamente para **reordená-la baseada na lista de ocorrências**.\n",
        "* Se **houver ocorrência**, o **valor do índice** onde ela ocorreu será **armazenado dentro da lista**.\n",
        "* Tendo feito isso, **decrementaremos** em **1** o **número de ocorrências** naquele **índice**."
      ]
    },
    {
      "cell_type": "code",
      "execution_count": 57,
      "metadata": {
        "colab": {
          "base_uri": "https://localhost:8080/"
        },
        "id": "uJml-VlHsjlB",
        "outputId": "f13ddd1e-6d58-4733-aebe-3fcc3e9cd2ea"
      },
      "outputs": [
        {
          "name": "stdout",
          "output_type": "stream",
          "text": [
            "[ 10  18  25  25  47  49  61  62  71 103 116 117 138 146 148 156 166 175\n",
            " 193 199 203 209 210 214 223 234 245 250 270 275 288 297 308 321 322 326\n",
            " 342 363 386 393 396 403 411 416 416 416 423 435 452 456 458 479 488 491\n",
            " 511 512 517 524 545 563 564 591 594 595 595 598 600 613 638 639 646 672\n",
            " 685 713 713 729 757 766 773 789 795 798 808 811 849 852 868 869 872 917\n",
            " 943 944 946 947 953 954 965 972 985 986]\n",
            "[  4  13  51  55  57  61  63  68  72  82  85  99 101 107 118 120 120 167\n",
            " 174 178 178 180 186 217 231 233 242 252 274 286 298 305 307 315 316 317\n",
            " 418 433 444 449 479 482 486 501 504 512 525 528 531 532 533 540 542 543\n",
            " 549 578 580 583 605 619 626 640 647 648 651 667 675 700 704 720 722 739\n",
            " 744 751 758 760 762 779 799 802 810 822 826 834 846 846 864 896 906 909\n",
            " 921 922 932 954 965 967 967 969 977 997]\n",
            "[ 11  18  27  34  73  84  86 101 108 108 111 158 160 161 184 188 215 230\n",
            " 237 238 246 252 253 256 263 277 284 293 317 328 338 345 346 350 352 359\n",
            " 380 385 395 402 431 432 444 455 456 459 460 463 467 472 474 490 510 533\n",
            " 549 551 566 576 579 583 589 590 600 636 639 641 644 650 663 667 675 677\n",
            " 685 697 706 711 739 793 804 805 810 814 840 840 843 843 849 861 867 869\n",
            " 892 896 913 918 925 928 931 961 963 998]\n",
            "[  1  46  54  60  64  90  92 103 106 139 143 144 148 157 171 197 197 224\n",
            " 228 242 250 270 273 285 286 288 313 324 326 336 345 347 348 361 374 375\n",
            " 378 399 408 409 412 434 434 436 442 451 459 469 470 473 474 481 483 489\n",
            " 503 512 522 528 538 565 565 565 567 568 571 603 612 631 632 654 655 658\n",
            " 702 708 720 733 734 744 751 760 761 773 795 803 856 858 860 873 883 890\n",
            " 892 917 921 941 947 959 961 964 965 974]\n",
            "[ 14  14  16  30  36  49  49  50 101 116 163 173 198 205 213 237 242 247\n",
            " 254 254 257 259 263 274 281 282 286 341 430 432 437 440 443 452 456 460\n",
            " 464 466 481 490 501 517 518 530 537 537 561 576 595 597 603 610 619 619\n",
            " 642 650 660 667 667 676 713 734 738 744 747 755 756 757 774 781 790 798\n",
            " 807 807 809 809 833 838 849 850 853 854 855 862 864 866 876 881 895 905\n",
            " 924 933 937 959 960 965 969 982 990 998]\n",
            "[  2   8  13  15  15  40  63  79  87 101 111 129 131 147 159 175 179 188\n",
            " 202 220 226 239 285 290 336 338 338 340 350 360 367 391 403 405 429 452\n",
            " 454 470 476 482 482 486 500 500 518 521 522 524 536 545 551 575 595 596\n",
            " 597 604 610 613 620 627 636 641 667 682 682 684 686 690 690 706 714 730\n",
            " 732 733 740 759 761 811 819 836 849 877 881 881 887 907 915 920 922 933\n",
            " 939 942 946 947 954 959 963 966 974 989]\n"
          ]
        }
      ],
      "source": [
        "for tamanho in tamanhos:\n",
        "    lista = np.random.randint(0, 1000, size=100)    \n",
        "    #ocorrencias antes de examinar a lista -> como não temos certeza, é tudo zero \n",
        "    contagem_de_ocorrencias = [0] * (max(lista) + 1)\n",
        "    \n",
        "    #contagem_de_ocorrencias possui 21 elementos, sendo o último o elemento máximo dentro da lista, pois contamos a partir do 0 \n",
        "    #o valor do elemento será guardado num índice correspondente ao seu valor da contagem_de_ocorrencias\n",
        "    \n",
        "    for i in lista: \n",
        "        contagem_de_ocorrencias[i] += 1\n",
        "        \n",
        "    #j será o contador que vai reordenar a lista\n",
        "        \n",
        "    j = 0 \n",
        "    \n",
        "    #se houver ocorrência, ou seja, contagem_de_ocorrencia > 0, o índice de onde ocorreu será armazenado na lista \n",
        "    #j é incrementado e seguimos para o próximo elemento dentro da lista original \n",
        "    #o índice da contagem_de_ocorrencias é decrementado uma vez que a ocorrência já foi registrada na lista original\n",
        "    \n",
        "    for i in range(len(contagem_de_ocorrencias)):\n",
        "        while contagem_de_ocorrencias[i] > 0:\n",
        "            lista[j] = i\n",
        "            j += 1\n",
        "            contagem_de_ocorrencias[i] -= 1\n",
        "            \n",
        "    print(lista)"
      ]
    },
    {
      "cell_type": "markdown",
      "metadata": {},
      "source": [
        "**COMPLEXIDADE TEMPORAL**\n",
        "\n",
        "* O(n + k)\n",
        "* Mesma complexidade temporal independente do caso"
      ]
    },
    {
      "cell_type": "markdown",
      "metadata": {
        "id": "0afDNNcNSieu"
      },
      "source": [
        "### **BUCKET SORT**"
      ]
    },
    {
      "cell_type": "code",
      "execution_count": 55,
      "metadata": {},
      "outputs": [
        {
          "data": {
            "text/plain": [
              "500.0"
            ]
          },
          "execution_count": 55,
          "metadata": {},
          "output_type": "execute_result"
        }
      ],
      "source": [
        "@complexidade_temporal \n",
        "def bucket_sort(lista):\n",
        "    bucket = len(lista)/2\n",
        "    return bucket\n",
        "\n",
        "lista = random.sample(range(100000), 100)"
      ]
    },
    {
      "cell_type": "markdown",
      "metadata": {
        "id": "i6EcNzwVSpsJ"
      },
      "source": [
        "### **RADIX SORT**"
      ]
    },
    {
      "cell_type": "markdown",
      "metadata": {},
      "source": [
        "### **HEAP SORT**"
      ]
    },
    {
      "cell_type": "markdown",
      "metadata": {},
      "source": [
        "### **COCKTAIL SORT** "
      ]
    },
    {
      "cell_type": "markdown",
      "metadata": {},
      "source": [
        "### **COMB SORT**"
      ]
    },
    {
      "cell_type": "markdown",
      "metadata": {},
      "source": [
        "### **BITONIC SORT**"
      ]
    }
  ],
  "metadata": {
    "colab": {
      "provenance": []
    },
    "kernelspec": {
      "display_name": "Python 3",
      "name": "python3"
    },
    "language_info": {
      "codemirror_mode": {
        "name": "ipython",
        "version": 3
      },
      "file_extension": ".py",
      "mimetype": "text/x-python",
      "name": "python",
      "nbconvert_exporter": "python",
      "pygments_lexer": "ipython3",
      "version": "3.10.12"
    }
  },
  "nbformat": 4,
  "nbformat_minor": 0
}
