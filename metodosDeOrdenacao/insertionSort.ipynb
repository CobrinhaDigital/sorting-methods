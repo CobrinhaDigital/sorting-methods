{
 "cells": [
  {
   "cell_type": "code",
   "execution_count": null,
   "metadata": {},
   "outputs": [],
   "source": [
    "import random\n",
    "import time\n",
    "\n",
    "def complexidade_temporal(metodo): \n",
    "    def decorator_temporal(args, **kwargs): # arr\n",
    "        tempoInicial = time.perf_counter()\n",
    "        chamadaDeMetodo = metodo(args, **kwargs)\n",
    "        tempoFinal = time.perf_counter()\n",
    "\n",
    "        return chamadaDeMetodo, tempoFinal - tempoInicial\n",
    "    return decorator_temporal\n",
    "\n",
    "\n"
   ]
  }
 ],
 "metadata": {
  "language_info": {
   "name": "python"
  }
 },
 "nbformat": 4,
 "nbformat_minor": 2
}
