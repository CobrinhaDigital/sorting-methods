{
 "cells": [
  {
   "cell_type": "markdown",
   "metadata": {},
   "source": [
    "##### **BUBBLE SORT** => *bolhas maiores sobem mais rápido*\n",
    "*   Ordena elementos em ordem **crescente**\n",
    "*   Compara elementos adjacentes (lado a lado)\n",
    "*   Se o **primeiro** elemento for **maior que** o **segundo**, o primeiro **assume a posição** do segundo e vice-versa\n",
    "*   O **maior elemento** é sempre usado para **comparar**"
   ]
  },
  {
   "cell_type": "code",
   "execution_count": null,
   "metadata": {},
   "outputs": [],
   "source": [
    "import random\n",
    "import time\n",
    "\n",
    "def complexidade_temporal(metodo): \n",
    "    def decorator_temporal(args, **kwargs): # arr\n",
    "        tempoInicial = time.perf_counter()\n",
    "        chamadaDeMetodo = metodo(args, **kwargs)\n",
    "        tempoFinal = time.perf_counter()\n",
    "\n",
    "        return chamadaDeMetodo, tempoFinal - tempoInicial\n",
    "    return decorator_temporal\n",
    "\n",
    "@complexidade_temporal\n",
    "def bubble_sort(lista):\n",
    "    for i in range(len(lista)):\n",
    "        for j in range(0, len(lista)-i-1):\n",
    "            if lista[j] > lista[j+1]:\n",
    "                aux = lista[j]\n",
    "                lista[j] = lista[j + 1]\n",
    "                lista[j + 1] = aux\n",
    "    \n",
    "lista = random.sample(range(100000), 100)\n",
    "\n",
    "print(lista)\n",
    "        \n",
    "#OBS) Pode haver uma diferença desprezível entre o tempo de compilação do bloco de código e o tempo printado "
   ]
  },
  {
   "cell_type": "markdown",
   "metadata": {},
   "source": [
    "**COMPLEXIDADE TEMPORAL - Bubble Sort** \n",
    "* **Melhor caso:** *O(n)*\n",
    "* **Caso médio:** *O(n^2)*\n",
    "* **Pior caso:** *O(n^2)*"
   ]
  }
 ],
 "metadata": {
  "language_info": {
   "name": "python"
  }
 },
 "nbformat": 4,
 "nbformat_minor": 2
}
